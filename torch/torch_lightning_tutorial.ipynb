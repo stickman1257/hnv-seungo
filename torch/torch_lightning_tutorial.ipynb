{
 "cells": [
  {
   "cell_type": "markdown",
   "id": "39a3632d-69fb-458c-889e-cce09f5bb9cc",
   "metadata": {},
   "source": [
    "# torch_learning\n",
    "\n",
    "## 텐서 사용하기\n"
   ]
  },
  {
   "cell_type": "code",
   "execution_count": 2,
   "id": "c0c641ab-cedf-43a7-b045-be20752596ae",
   "metadata": {},
   "outputs": [
    {
     "name": "stdout",
     "output_type": "stream",
     "text": [
      "tensor([1, 2, 3])\n",
      "tensor([[1., 2., 3.],\n",
      "        [4., 5., 6.]])\n",
      "tensor([1, 2, 3])\n",
      "tensor([1., 2., 3.])\n"
     ]
    }
   ],
   "source": [
    "import torch\n",
    "\n",
    "print(torch.tensor([1, 2, 3]))\n",
    "print(torch.Tensor([[1, 2, 3], [4, 5, 6]]))\n",
    "print(torch.LongTensor([1, 2, 3]))\n",
    "print(torch.FloatTensor([1, 2, 3]))"
   ]
  },
  {
   "cell_type": "markdown",
   "id": "46409423-6dbd-4656-9b17-c1453fa970af",
   "metadata": {},
   "source": [
    "## 텐서 속성"
   ]
  },
  {
   "cell_type": "code",
   "execution_count": 3,
   "id": "7554166e-0113-4c25-9f5f-43572509ae6f",
   "metadata": {},
   "outputs": [
    {
     "name": "stdout",
     "output_type": "stream",
     "text": [
      "tensor([[0.8338, 0.5583]])\n",
      "torch.Size([1, 2])\n",
      "torch.float32\n",
      "cpu\n"
     ]
    }
   ],
   "source": [
    "import torch\n",
    "\n",
    "tensor = torch.rand(1, 2)\n",
    "\n",
    "print(tensor)\n",
    "print(tensor.shape)\n",
    "print(tensor.dtype)\n",
    "print(tensor.device)"
   ]
  },
  {
   "cell_type": "markdown",
   "id": "7d862ee0-caba-4060-86ea-0d61d573b90e",
   "metadata": {},
   "source": [
    "## 텐서 차원 변환"
   ]
  },
  {
   "cell_type": "code",
   "execution_count": 5,
   "id": "efc3c0de-047b-4518-907d-341a38912a9b",
   "metadata": {},
   "outputs": [
    {
     "name": "stdout",
     "output_type": "stream",
     "text": [
      "tensor([[0.7230, 0.3974]])\n",
      "tensor([[0.7230],\n",
      "        [0.3974]])\n"
     ]
    }
   ],
   "source": [
    "import torch\n",
    "\n",
    "tensor = torch.rand(1, 2)\n",
    "print(tensor)\n",
    "\n",
    "tensor = tensor.reshape(2, 1)\n",
    "print(tensor)"
   ]
  },
  {
   "cell_type": "markdown",
   "id": "5332a4c6-bede-4fa2-a61e-8f02d2467b5b",
   "metadata": {},
   "source": [
    "## 자료형 설정"
   ]
  },
  {
   "cell_type": "code",
   "execution_count": 7,
   "id": "35ef868e-6144-46fb-b6f8-9e04db2c35d4",
   "metadata": {},
   "outputs": [
    {
     "name": "stdout",
     "output_type": "stream",
     "text": [
      "tensor([[0.5739, 0.5075, 0.5003],\n",
      "        [0.2090, 0.3264, 0.1775],\n",
      "        [0.1458, 0.5820, 0.0034]])\n"
     ]
    }
   ],
   "source": [
    "import torch\n",
    "\n",
    "print(torch.rand((3, 3), dtype=torch.float))"
   ]
  },
  {
   "cell_type": "markdown",
   "id": "d06481e2-35a8-411a-9839-a30766bd41a2",
   "metadata": {},
   "source": [
    "## 장치 설정"
   ]
  },
  {
   "cell_type": "code",
   "execution_count": 10,
   "id": "5ccc03fb-d93f-4162-82a3-fbfc01d4a6ba",
   "metadata": {},
   "outputs": [
    {
     "name": "stdout",
     "output_type": "stream",
     "text": [
      "cuda\n",
      "tensor([1., 2., 3.])\n",
      "tensor([1., 2., 3.], device='cuda:0')\n",
      "tensor([[0.0292]], device='cuda:0')\n"
     ]
    }
   ],
   "source": [
    "import torch\n",
    "\n",
    "device = 'cuda' if torch.cuda.is_available() else 'cpu'\n",
    "cpu = torch.FloatTensor([1, 2, 3])\n",
    "gpu = torch.cuda.FloatTensor([1, 2, 3])\n",
    "tensor = torch.rand((1, 1), device=device)\n",
    "\n",
    "print(device)\n",
    "print(cpu)\n",
    "print(gpu)\n",
    "print(tensor)\n"
   ]
  },
  {
   "cell_type": "markdown",
   "id": "851776fd-2d30-41ad-9227-c09c0814289b",
   "metadata": {},
   "source": [
    "## 장치 변환"
   ]
  },
  {
   "cell_type": "code",
   "execution_count": 11,
   "id": "4a66e06b-ff43-4356-93d9-92413644968f",
   "metadata": {},
   "outputs": [
    {
     "name": "stdout",
     "output_type": "stream",
     "text": [
      "tensor([1., 2., 3.])\n",
      "tensor([1., 2., 3.], device='cuda:0')\n",
      "tensor([1., 2., 3.])\n"
     ]
    }
   ],
   "source": [
    "import torch\n",
    "\n",
    "cpu = torch.FloatTensor([1, 2, 3])\n",
    "gpu = cpu.cuda()\n",
    "gpu2cpu = gpu.cpu()\n",
    "\n",
    "print(cpu)\n",
    "print(gpu)\n",
    "print(gpu2cpu)\n"
   ]
  },
  {
   "cell_type": "markdown",
   "id": "07b681d3-5e14-4608-8794-8b9c191fa041",
   "metadata": {},
   "source": [
    "## NumPy 변환 "
   ]
  },
  {
   "cell_type": "code",
   "execution_count": 14,
   "id": "38145a79-516f-4df7-854d-fda0ae53ecbb",
   "metadata": {},
   "outputs": [
    {
     "name": "stdout",
     "output_type": "stream",
     "text": [
      "tensor([1, 2, 3], dtype=torch.uint8)\n",
      "tensor([1., 2., 3.])\n",
      "tensor([1, 2, 3], dtype=torch.uint8)\n"
     ]
    }
   ],
   "source": [
    "import torch\n",
    "import numpy as np\n",
    "\n",
    "print(torch.tensor(np.array([1, 2, 3], dtype = np.uint8)))\n",
    "print(torch.Tensor(np.array([1, 2, 3], dtype = np.uint8)))\n",
    "print(torch.from_numpy(np.array([1, 2, 3], dtype = np.uint8)))"
   ]
  },
  {
   "cell_type": "markdown",
   "id": "231fd187-3741-439a-9749-fef9c00f1b87",
   "metadata": {},
   "source": [
    "## Tensor 변환 "
   ]
  },
  {
   "cell_type": "code",
   "execution_count": 15,
   "id": "6af2dffd-df49-4014-b129-2e211f3306f9",
   "metadata": {},
   "outputs": [
    {
     "name": "stdout",
     "output_type": "stream",
     "text": [
      "[1. 2. 3.]\n"
     ]
    }
   ],
   "source": [
    "import torch\n",
    "\n",
    "tensor = torch.cuda.FloatTensor([1, 2, 3])\n",
    "ndarray = tensor.detach().cpu().numpy()\n",
    "\n",
    "print(ndarray)"
   ]
  },
  {
   "cell_type": "code",
   "execution_count": null,
   "id": "5a2ee306-7b1f-464d-886e-f3a821d2480e",
   "metadata": {},
   "outputs": [],
   "source": []
  }
 ],
 "metadata": {
  "kernelspec": {
   "display_name": "Python 3 (ipykernel)",
   "language": "python",
   "name": "python3"
  },
  "language_info": {
   "codemirror_mode": {
    "name": "ipython",
    "version": 3
   },
   "file_extension": ".py",
   "mimetype": "text/x-python",
   "name": "python",
   "nbconvert_exporter": "python",
   "pygments_lexer": "ipython3",
   "version": "3.10.13"
  }
 },
 "nbformat": 4,
 "nbformat_minor": 5
}
